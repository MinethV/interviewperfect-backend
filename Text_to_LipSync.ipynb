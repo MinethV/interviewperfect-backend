{
  "cells": [
    {
      "cell_type": "markdown",
      "metadata": {
        "id": "view-in-github",
        "colab_type": "text"
      },
      "source": [
        "<a href=\"https://colab.research.google.com/github/MinethV/interviewperfect-backend/blob/Create-LipSync-Model/Text_to_LipSync.ipynb\" target=\"_parent\"><img src=\"https://colab.research.google.com/assets/colab-badge.svg\" alt=\"Open In Colab\"/></a>"
      ]
    },
    {
      "cell_type": "markdown",
      "metadata": {
        "id": "MNBH3KV4rEa_"
      },
      "source": [
        "<h1>Text to speech"
      ]
    },
    {
      "cell_type": "code",
      "execution_count": null,
      "metadata": {
        "colab": {
          "base_uri": "https://localhost:8080/"
        },
        "id": "ar_bAWHjrIBF",
        "outputId": "96890628-b255-4892-8994-c3df07eb1f0d"
      },
      "outputs": [
        {
          "name": "stdout",
          "output_type": "stream",
          "text": [
            "Collecting gtts\n",
            "  Downloading gTTS-2.5.1-py3-none-any.whl (29 kB)\n",
            "Requirement already satisfied: requests<3,>=2.27 in /usr/local/lib/python3.10/dist-packages (from gtts) (2.31.0)\n",
            "Requirement already satisfied: click<8.2,>=7.1 in /usr/local/lib/python3.10/dist-packages (from gtts) (8.1.7)\n",
            "Requirement already satisfied: charset-normalizer<4,>=2 in /usr/local/lib/python3.10/dist-packages (from requests<3,>=2.27->gtts) (3.3.2)\n",
            "Requirement already satisfied: idna<4,>=2.5 in /usr/local/lib/python3.10/dist-packages (from requests<3,>=2.27->gtts) (3.6)\n",
            "Requirement already satisfied: urllib3<3,>=1.21.1 in /usr/local/lib/python3.10/dist-packages (from requests<3,>=2.27->gtts) (2.0.7)\n",
            "Requirement already satisfied: certifi>=2017.4.17 in /usr/local/lib/python3.10/dist-packages (from requests<3,>=2.27->gtts) (2024.2.2)\n",
            "Installing collected packages: gtts\n",
            "Successfully installed gtts-2.5.1\n"
          ]
        }
      ],
      "source": [
        "!pip install gtts\n",
        "from gtts import gTTS\n",
        "import os\n",
        "\n",
        "myText=\"Yamete kudasai! Onee Chan\"\n",
        "lang='en'\n",
        "\n",
        "output=gTTS(text=myText,lang=lang,slow=False)\n",
        "output.save(\"results.wav\")\n",
        "\n",
        "from google.colab import drive\n",
        "drive.mount('/content/drive')\n",
        "\n",
        "!cp \"/content/result.wav\" \"/content/drive/My Drive/Wav2Lips\"\n",
        "\n",
        "!nvcc --version\n",
        "\n",
        "from google.colab import drive\n",
        "drive.mount(\"/content/drive\", force_remount=True)\n",
        "\n",
        "!git clone https://github.com/Rudrabha/Wav2Lip.git\n",
        "\n",
        "!ls\n",
        "\n",
        "!cp -ri \"/content/drive/MyDrive/Wav2Lips/wav2lip_gan.pth\" /content/Wav2Lip/checkpoints/\n",
        "\n",
        "!pip uninstall tensorflow tensorflow-gpu\n",
        "\n",
        "!cd Wav2Lip && pip install -r requirements.txt\n",
        "\n",
        "!wget \"https://www.adrianbulat.com/downloads/python-fan/s3fd-619a316812.pth\" -O \"Wav2Lip/face_detection/detection/sfd/s3fd.pth\"\n",
        "\n",
        "!cp \"/content/drive/My Drive/Wav2Lips/me.png\" \"/content/drive/My Drive/Wav2Lips/result.wav\" sample_data/\n",
        "!ls sample_data/\n",
        "\n",
        "!cd Wav2Lip && python inference.py --checkpoint_path checkpoints/wav2lip_gan.pth --face \"../sample_data/me.png\" --audio \"../sample_data/result.wav\""
      ]
    },
    {
      "cell_type": "code",
      "execution_count": null,
      "metadata": {
        "id": "oJn5XYVQrNYM"
      },
      "outputs": [],
      "source": [
        "myText=\"Yamete kudasai! Onee Chan\"\n",
        "lang='en'"
      ]
    },
    {
      "cell_type": "code",
      "execution_count": null,
      "metadata": {
        "id": "Zyx0jNllrPw6"
      },
      "outputs": [],
      "source": [
        "output=gTTS(text=myText,lang=lang,slow=False)\n",
        "output.save(\"results.wav\")"
      ]
    },
    {
      "cell_type": "code",
      "execution_count": null,
      "metadata": {
        "colab": {
          "base_uri": "https://localhost:8080/"
        },
        "id": "2bN5VAyBvmsH",
        "outputId": "90dbdcbb-e651-44d3-9664-d28e7cd5d7f9"
      },
      "outputs": [
        {
          "name": "stdout",
          "output_type": "stream",
          "text": [
            "Drive already mounted at /content/drive; to attempt to forcibly remount, call drive.mount(\"/content/drive\", force_remount=True).\n"
          ]
        }
      ],
      "source": [
        "from google.colab import drive\n",
        "drive.mount('/content/drive')"
      ]
    },
    {
      "cell_type": "markdown",
      "metadata": {
        "id": "K5JcuJW1v-0u"
      },
      "source": [
        "<h1>Save to google drive"
      ]
    },
    {
      "cell_type": "code",
      "execution_count": null,
      "metadata": {
        "id": "OHYoJ6NPwC4W"
      },
      "outputs": [],
      "source": [
        "!cp \"/content/result.wav\" \"/content/drive/My Drive/Wav2Lips\""
      ]
    },
    {
      "cell_type": "markdown",
      "metadata": {
        "id": "uafruum2we-1"
      },
      "source": [
        "<h1>Collab preliminaries"
      ]
    },
    {
      "cell_type": "code",
      "execution_count": null,
      "metadata": {
        "colab": {
          "base_uri": "https://localhost:8080/"
        },
        "id": "XIVB0Xn1g6ih",
        "outputId": "75094b57-9a95-471b-c2a4-87afae11753e"
      },
      "outputs": [
        {
          "name": "stdout",
          "output_type": "stream",
          "text": [
            "nvcc: NVIDIA (R) Cuda compiler driver\n",
            "Copyright (c) 2005-2023 NVIDIA Corporation\n",
            "Built on Tue_Aug_15_22:02:13_PDT_2023\n",
            "Cuda compilation tools, release 12.2, V12.2.140\n",
            "Build cuda_12.2.r12.2/compiler.33191640_0\n"
          ]
        }
      ],
      "source": [
        "!nvcc --version"
      ]
    },
    {
      "cell_type": "code",
      "execution_count": null,
      "metadata": {
        "colab": {
          "base_uri": "https://localhost:8080/"
        },
        "id": "qciH4PsUazL_",
        "outputId": "4d711ddb-c18d-49d9-c8d0-dc8465853490"
      },
      "outputs": [
        {
          "name": "stdout",
          "output_type": "stream",
          "text": [
            "Mounted at /content/drive\n"
          ]
        }
      ],
      "source": [
        "from google.colab import drive\n",
        "drive.mount(\"/content/drive\", force_remount=True)\n"
      ]
    },
    {
      "cell_type": "markdown",
      "metadata": {
        "id": "yJ5taGmPcWV-"
      },
      "source": [
        "# Get the code and models"
      ]
    },
    {
      "cell_type": "code",
      "execution_count": null,
      "metadata": {
        "colab": {
          "base_uri": "https://localhost:8080/"
        },
        "id": "P3LihClHbUd3",
        "outputId": "d44f80a4-427f-41b5-8925-cb1f9276927a"
      },
      "outputs": [
        {
          "name": "stdout",
          "output_type": "stream",
          "text": [
            "Cloning into 'Wav2Lip'...\n",
            "remote: Enumerating objects: 378, done.\u001b[K\n",
            "remote: Total 378 (delta 0), reused 0 (delta 0), pack-reused 378\u001b[K\n",
            "Receiving objects: 100% (378/378), 527.58 KiB | 2.78 MiB/s, done.\n",
            "Resolving deltas: 100% (210/210), done.\n"
          ]
        }
      ],
      "source": [
        "!git clone https://github.com/Rudrabha/Wav2Lip.git"
      ]
    },
    {
      "cell_type": "code",
      "execution_count": null,
      "metadata": {
        "colab": {
          "base_uri": "https://localhost:8080/"
        },
        "id": "y-19nzx8SamJ",
        "outputId": "10274432-10d6-4721-a021-e5a14b6eb7d9"
      },
      "outputs": [
        {
          "name": "stdout",
          "output_type": "stream",
          "text": [
            "drive  gdrive  results.wav  result.wav\tsample_data  Wav2Lip\n"
          ]
        }
      ],
      "source": [
        "!ls"
      ]
    },
    {
      "cell_type": "code",
      "execution_count": null,
      "metadata": {
        "id": "YjzMPy_Sb0AI"
      },
      "outputs": [],
      "source": [
        "!cp -ri \"/content/drive/MyDrive/Wav2Lips/wav2lip_gan.pth\" /content/Wav2Lip/checkpoints/"
      ]
    },
    {
      "cell_type": "markdown",
      "metadata": {
        "id": "aWTaOS3ncFt6"
      },
      "source": [
        "# Get the pre-requisites"
      ]
    },
    {
      "cell_type": "code",
      "execution_count": null,
      "metadata": {
        "colab": {
          "base_uri": "https://localhost:8080/"
        },
        "id": "Ooh28vw-Uvd3",
        "outputId": "9050122f-717b-4d90-b86a-f8cf311caabe"
      },
      "outputs": [
        {
          "name": "stdout",
          "output_type": "stream",
          "text": [
            "Found existing installation: tensorflow 2.15.0\n",
            "Uninstalling tensorflow-2.15.0:\n",
            "  Would remove:\n",
            "    /usr/local/bin/estimator_ckpt_converter\n",
            "    /usr/local/bin/import_pb_to_tensorboard\n",
            "    /usr/local/bin/saved_model_cli\n",
            "    /usr/local/bin/tensorboard\n",
            "    /usr/local/bin/tf_upgrade_v2\n",
            "    /usr/local/bin/tflite_convert\n",
            "    /usr/local/bin/toco\n",
            "    /usr/local/bin/toco_from_protos\n",
            "    /usr/local/lib/python3.10/dist-packages/tensorflow-2.15.0.dist-info/*\n",
            "    /usr/local/lib/python3.10/dist-packages/tensorflow/*\n",
            "Proceed (Y/n)? \u001b[31mERROR: Operation cancelled by user\u001b[0m\u001b[31m\n",
            "\u001b[0mTraceback (most recent call last):\n",
            "  File \"/usr/local/lib/python3.10/dist-packages/pip/_internal/cli/base_command.py\", line 169, in exc_logging_wrapper\n",
            "    status = run_func(*args)\n",
            "  File \"/usr/local/lib/python3.10/dist-packages/pip/_internal/commands/uninstall.py\", line 105, in run\n",
            "    uninstall_pathset = req.uninstall(\n",
            "  File \"/usr/local/lib/python3.10/dist-packages/pip/_internal/req/req_install.py\", line 680, in uninstall\n",
            "    uninstalled_pathset.remove(auto_confirm, verbose)\n",
            "  File \"/usr/local/lib/python3.10/dist-packages/pip/_internal/req/req_uninstall.py\", line 375, in remove\n",
            "    if auto_confirm or self._allowed_to_proceed(verbose):\n",
            "  File \"/usr/local/lib/python3.10/dist-packages/pip/_internal/req/req_uninstall.py\", line 415, in _allowed_to_proceed\n",
            "    return ask(\"Proceed (Y/n)? \", (\"y\", \"n\", \"\")) != \"n\"\n",
            "  File \"/usr/local/lib/python3.10/dist-packages/pip/_internal/utils/misc.py\", line 192, in ask\n",
            "    response = input(message)\n",
            "KeyboardInterrupt\n",
            "\n",
            "During handling of the above exception, another exception occurred:\n",
            "\n",
            "Traceback (most recent call last):\n",
            "  File \"/usr/local/bin/pip3\", line 8, in <module>\n",
            "    sys.exit(main())\n",
            "  File \"/usr/local/lib/python3.10/dist-packages/pip/_internal/cli/main.py\", line 79, in main\n",
            "    return command.main(cmd_args)\n",
            "  File \"/usr/local/lib/python3.10/dist-packages/pip/_internal/cli/base_command.py\", line 101, in main\n",
            "    return self._main(args)\n",
            "  File \"/usr/local/lib/python3.10/dist-packages/pip/_internal/cli/base_command.py\", line 223, in _main\n",
            "    return run(options, args)\n",
            "  File \"/usr/local/lib/python3.10/dist-packages/pip/_internal/cli/base_command.py\", line 207, in exc_logging_wrapper\n",
            "    logger.debug(\"Exception information:\", exc_info=True)\n",
            "  File \"/usr/lib/python3.10/logging/__init__.py\", line 1465, in debug\n",
            "    self._log(DEBUG, msg, args, **kwargs)\n",
            "  File \"/usr/lib/python3.10/logging/__init__.py\", line 1624, in _log\n",
            "    self.handle(record)\n",
            "  File \"/usr/lib/python3.10/logging/__init__.py\", line 1634, in handle\n",
            "    self.callHandlers(record)\n",
            "  File \"/usr/lib/python3.10/logging/__init__.py\", line 1696, in callHandlers\n",
            "    hdlr.handle(record)\n",
            "  File \"/usr/lib/python3.10/logging/__init__.py\", line 968, in handle\n",
            "    self.emit(record)\n",
            "  File \"/usr/lib/python3.10/logging/handlers.py\", line 75, in emit\n",
            "    logging.FileHandler.emit(self, record)\n",
            "  File \"/usr/lib/python3.10/logging/__init__.py\", line 1218, in emit\n",
            "    StreamHandler.emit(self, record)\n",
            "  File \"/usr/lib/python3.10/logging/__init__.py\", line 1100, in emit\n",
            "    msg = self.format(record)\n",
            "  File \"/usr/lib/python3.10/logging/__init__.py\", line 943, in format\n",
            "    return fmt.format(record)\n",
            "  File \"/usr/local/lib/python3.10/dist-packages/pip/_internal/utils/logging.py\", line 112, in format\n",
            "    formatted = super().format(record)\n",
            "  File \"/usr/lib/python3.10/logging/__init__.py\", line 686, in format\n",
            "    record.exc_text = self.formatException(record.exc_info)\n",
            "  File \"/usr/lib/python3.10/logging/__init__.py\", line 636, in formatException\n",
            "    traceback.print_exception(ei[0], ei[1], tb, None, sio)\n",
            "  File \"/usr/lib/python3.10/traceback.py\", line 119, in print_exception\n",
            "    te = TracebackException(type(value), value, tb, limit=limit, compact=True)\n",
            "  File \"/usr/lib/python3.10/traceback.py\", line 502, in __init__\n",
            "    self.stack = StackSummary.extract(\n",
            "  File \"/usr/lib/python3.10/traceback.py\", line 383, in extract\n",
            "    f.line\n",
            "  File \"/usr/lib/python3.10/traceback.py\", line 306, in line\n",
            "    self._line = linecache.getline(self.filename, self.lineno)\n",
            "  File \"/usr/lib/python3.10/linecache.py\", line 30, in getline\n",
            "    lines = getlines(filename, module_globals)\n",
            "  File \"/usr/lib/python3.10/linecache.py\", line 46, in getlines\n",
            "    return updatecache(filename, module_globals)\n",
            "  File \"/usr/lib/python3.10/linecache.py\", line 136, in updatecache\n",
            "    with tokenize.open(fullname) as fp:\n",
            "  File \"/usr/lib/python3.10/tokenize.py\", line 396, in open\n",
            "    encoding, lines = detect_encoding(buffer.readline)\n",
            "  File \"/usr/lib/python3.10/tokenize.py\", line 365, in detect_encoding\n",
            "    first = read_or_stop()\n",
            "  File \"/usr/lib/python3.10/tokenize.py\", line 323, in read_or_stop\n",
            "    return readline()\n",
            "KeyboardInterrupt\n",
            "^C\n"
          ]
        }
      ],
      "source": [
        "!pip uninstall tensorflow tensorflow-gpu"
      ]
    },
    {
      "cell_type": "code",
      "execution_count": null,
      "metadata": {
        "colab": {
          "base_uri": "https://localhost:8080/"
        },
        "id": "49dCYlLdcK2D",
        "outputId": "c2d12209-e2b5-4676-88d2-7cb74f6e9d91"
      },
      "outputs": [
        {
          "name": "stdout",
          "output_type": "stream",
          "text": [
            "Collecting librosa==0.7.0 (from -r requirements.txt (line 1))\n",
            "  Downloading librosa-0.7.0.tar.gz (1.6 MB)\n",
            "\u001b[2K     \u001b[90m━━━━━━━━━━━━━━━━━━━━━━━━━━━━━━━━━━━━━━━━\u001b[0m \u001b[32m1.6/1.6 MB\u001b[0m \u001b[31m12.2 MB/s\u001b[0m eta \u001b[36m0:00:00\u001b[0m\n",
            "\u001b[?25h  Preparing metadata (setup.py) ... \u001b[?25l\u001b[?25hdone\n",
            "Collecting numpy==1.17.1 (from -r requirements.txt (line 2))\n",
            "  Downloading numpy-1.17.1.zip (6.5 MB)\n",
            "\u001b[2K     \u001b[90m━━━━━━━━━━━━━━━━━━━━━━━━━━━━━━━━━━━━━━━━\u001b[0m \u001b[32m6.5/6.5 MB\u001b[0m \u001b[31m57.2 MB/s\u001b[0m eta \u001b[36m0:00:00\u001b[0m\n",
            "\u001b[?25h  Preparing metadata (setup.py) ... \u001b[?25l\u001b[?25hdone\n",
            "Requirement already satisfied: opencv-contrib-python>=4.2.0.34 in /usr/local/lib/python3.10/dist-packages (from -r requirements.txt (line 3)) (4.8.0.76)\n",
            "\u001b[31mERROR: Could not find a version that satisfies the requirement opencv-python==4.1.0.25 (from versions: 3.4.0.14, 3.4.10.37, 3.4.11.39, 3.4.11.41, 3.4.11.43, 3.4.11.45, 3.4.13.47, 3.4.15.55, 3.4.16.57, 3.4.16.59, 3.4.17.61, 3.4.17.63, 3.4.18.65, 4.3.0.38, 4.4.0.40, 4.4.0.42, 4.4.0.44, 4.4.0.46, 4.5.1.48, 4.5.3.56, 4.5.4.58, 4.5.4.60, 4.5.5.62, 4.5.5.64, 4.6.0.66, 4.7.0.68, 4.7.0.72, 4.8.0.74, 4.8.0.76, 4.8.1.78, 4.9.0.80)\u001b[0m\u001b[31m\n",
            "\u001b[0m\u001b[31mERROR: No matching distribution found for opencv-python==4.1.0.25\u001b[0m\u001b[31m\n",
            "\u001b[0m"
          ]
        }
      ],
      "source": [
        "!cd Wav2Lip && pip install -r requirements.txt"
      ]
    },
    {
      "cell_type": "code",
      "execution_count": null,
      "metadata": {
        "colab": {
          "base_uri": "https://localhost:8080/"
        },
        "id": "ey_bN4M6X_95",
        "outputId": "787c2c94-cc41-48b9-81d8-394bc7fd7912"
      },
      "outputs": [
        {
          "name": "stdout",
          "output_type": "stream",
          "text": [
            "--2024-03-06 17:04:40--  https://www.adrianbulat.com/downloads/python-fan/s3fd-619a316812.pth\n",
            "Resolving www.adrianbulat.com (www.adrianbulat.com)... 45.136.29.207\n",
            "Connecting to www.adrianbulat.com (www.adrianbulat.com)|45.136.29.207|:443... connected.\n",
            "HTTP request sent, awaiting response... 200 OK\n",
            "Length: 89843225 (86M) [application/octet-stream]\n",
            "Saving to: ‘Wav2Lip/face_detection/detection/sfd/s3fd.pth’\n",
            "\n",
            "Wav2Lip/face_detect 100%[===================>]  85.68M  20.4MB/s    in 4.9s    \n",
            "\n",
            "2024-03-06 17:04:46 (17.4 MB/s) - ‘Wav2Lip/face_detection/detection/sfd/s3fd.pth’ saved [89843225/89843225]\n",
            "\n"
          ]
        }
      ],
      "source": [
        "!wget \"https://www.adrianbulat.com/downloads/python-fan/s3fd-619a316812.pth\" -O \"Wav2Lip/face_detection/detection/sfd/s3fd.pth\""
      ]
    },
    {
      "cell_type": "markdown",
      "metadata": {
        "id": "qdIQfY2Kswcb"
      },
      "source": [
        "# Now lets try!"
      ]
    },
    {
      "cell_type": "code",
      "execution_count": null,
      "metadata": {
        "colab": {
          "base_uri": "https://localhost:8080/"
        },
        "id": "KoVGMtjRZfeR",
        "outputId": "807d2b5f-08b3-4737-a277-c2020960831b"
      },
      "outputs": [
        {
          "name": "stdout",
          "output_type": "stream",
          "text": [
            "anscombe.json\t\t     california_housing_train.csv  mnist_test.csv\t  README.md\n",
            "california_housing_test.csv  me.png\t\t\t   mnist_train_small.csv  result.wav\n"
          ]
        }
      ],
      "source": [
        "!cp \"/content/drive/My Drive/Wav2Lips/me.png\" \"/content/drive/My Drive/Wav2Lips/result.wav\" sample_data/\n",
        "!ls sample_data/"
      ]
    },
    {
      "cell_type": "code",
      "execution_count": null,
      "metadata": {
        "colab": {
          "base_uri": "https://localhost:8080/"
        },
        "id": "jR5utmDMcSZY",
        "outputId": "ea746bad-5da6-4c44-bbd7-539a0a6923e3"
      },
      "outputs": [
        {
          "name": "stdout",
          "output_type": "stream",
          "text": [
            "Using cpu for inference.\n",
            "Reading video frames...\n",
            "Number of frames available for inference: 1\n",
            "(80, 241)\n",
            "Length of mel chunks: 72\n",
            "  0% 0/1 [00:00<?, ?it/s]\n",
            "  0% 0/1 [00:00<?, ?it/s]\u001b[A\n",
            "100% 1/1 [00:13<00:00, 13.78s/it]\n",
            "Load checkpoint from: checkpoints/wav2lip_gan.pth\n",
            "Model loaded\n",
            "100% 1/1 [00:31<00:00, 31.40s/it]\n",
            "ffmpeg version 4.4.2-0ubuntu0.22.04.1 Copyright (c) 2000-2021 the FFmpeg developers\n",
            "  built with gcc 11 (Ubuntu 11.2.0-19ubuntu1)\n",
            "  configuration: --prefix=/usr --extra-version=0ubuntu0.22.04.1 --toolchain=hardened --libdir=/usr/lib/x86_64-linux-gnu --incdir=/usr/include/x86_64-linux-gnu --arch=amd64 --enable-gpl --disable-stripping --enable-gnutls --enable-ladspa --enable-libaom --enable-libass --enable-libbluray --enable-libbs2b --enable-libcaca --enable-libcdio --enable-libcodec2 --enable-libdav1d --enable-libflite --enable-libfontconfig --enable-libfreetype --enable-libfribidi --enable-libgme --enable-libgsm --enable-libjack --enable-libmp3lame --enable-libmysofa --enable-libopenjpeg --enable-libopenmpt --enable-libopus --enable-libpulse --enable-librabbitmq --enable-librubberband --enable-libshine --enable-libsnappy --enable-libsoxr --enable-libspeex --enable-libsrt --enable-libssh --enable-libtheora --enable-libtwolame --enable-libvidstab --enable-libvorbis --enable-libvpx --enable-libwebp --enable-libx265 --enable-libxml2 --enable-libxvid --enable-libzimg --enable-libzmq --enable-libzvbi --enable-lv2 --enable-omx --enable-openal --enable-opencl --enable-opengl --enable-sdl2 --enable-pocketsphinx --enable-librsvg --enable-libmfx --enable-libdc1394 --enable-libdrm --enable-libiec61883 --enable-chromaprint --enable-frei0r --enable-libx264 --enable-shared\n",
            "  libavutil      56. 70.100 / 56. 70.100\n",
            "  libavcodec     58.134.100 / 58.134.100\n",
            "  libavformat    58. 76.100 / 58. 76.100\n",
            "  libavdevice    58. 13.100 / 58. 13.100\n",
            "  libavfilter     7.110.100 /  7.110.100\n",
            "  libswscale      5.  9.100 /  5.  9.100\n",
            "  libswresample   3.  9.100 /  3.  9.100\n",
            "  libpostproc    55.  9.100 / 55.  9.100\n",
            "\u001b[0;35m[mp3 @ 0x5a4b45cf1240] \u001b[0m\u001b[0;33mEstimating duration from bitrate, this may be inaccurate\n",
            "\u001b[0mInput #0, mp3, from '../sample_data/result.wav':\n",
            "  Duration: 00:00:03.00, start: 0.000000, bitrate: 32 kb/s\n",
            "  Stream #0:0: Audio: mp3, 24000 Hz, mono, fltp, 32 kb/s\n",
            "Input #1, avi, from 'temp/result.avi':\n",
            "  Metadata:\n",
            "    software        : Lavf59.27.100\n",
            "  Duration: 00:00:02.88, start: 0.000000, bitrate: 591 kb/s\n",
            "  Stream #1:0: Video: mpeg4 (Simple Profile) (DIVX / 0x58564944), yuv420p, 1512x694 [SAR 1:1 DAR 756:347], 579 kb/s, 25 fps, 25 tbr, 25 tbn, 25 tbc\n",
            "Stream mapping:\n",
            "  Stream #1:0 -> #0:0 (mpeg4 (native) -> h264 (libx264))\n",
            "  Stream #0:0 -> #0:1 (mp3 (mp3float) -> aac (native))\n",
            "Press [q] to stop, [?] for help\n",
            "\u001b[1;36m[libx264 @ 0x5a4b45d1f040] \u001b[0m\u001b[0;33m-qscale is ignored, -crf is recommended.\n",
            "\u001b[0m\u001b[1;36m[libx264 @ 0x5a4b45d1f040] \u001b[0musing SAR=1/1\n",
            "\u001b[1;36m[libx264 @ 0x5a4b45d1f040] \u001b[0musing cpu capabilities: MMX2 SSE2Fast SSSE3 SSE4.2 AVX FMA3 BMI2 AVX2\n",
            "\u001b[1;36m[libx264 @ 0x5a4b45d1f040] \u001b[0mprofile High, level 3.2, 4:2:0, 8-bit\n",
            "\u001b[1;36m[libx264 @ 0x5a4b45d1f040] \u001b[0m264 - core 163 r3060 5db6aa6 - H.264/MPEG-4 AVC codec - Copyleft 2003-2021 - http://www.videolan.org/x264.html - options: cabac=1 ref=3 deblock=1:0:0 analyse=0x3:0x113 me=hex subme=7 psy=1 psy_rd=1.00:0.00 mixed_ref=1 me_range=16 chroma_me=1 trellis=1 8x8dct=1 cqm=0 deadzone=21,11 fast_pskip=1 chroma_qp_offset=-2 threads=3 lookahead_threads=1 sliced_threads=0 nr=0 decimate=1 interlaced=0 bluray_compat=0 constrained_intra=0 bframes=3 b_pyramid=2 b_adapt=1 b_bias=0 direct=1 weightb=1 open_gop=0 weightp=2 keyint=250 keyint_min=25 scenecut=40 intra_refresh=0 rc_lookahead=40 rc=crf mbtree=1 crf=23.0 qcomp=0.60 qpmin=0 qpmax=69 qpstep=4 ip_ratio=1.40 aq=1:1.00\n",
            "Output #0, mp4, to 'results/result_voice.mp4':\n",
            "  Metadata:\n",
            "    encoder         : Lavf58.76.100\n",
            "  Stream #0:0: Video: h264 (avc1 / 0x31637661), yuv420p(progressive), 1512x694 [SAR 1:1 DAR 756:347], q=2-31, 25 fps, 12800 tbn\n",
            "    Metadata:\n",
            "      encoder         : Lavc58.134.100 libx264\n",
            "    Side data:\n",
            "      cpb: bitrate max/min/avg: 0/0/0 buffer size: 0 vbv_delay: N/A\n",
            "  Stream #0:1: Audio: aac (LC) (mp4a / 0x6134706D), 24000 Hz, mono, fltp, 69 kb/s\n",
            "    Metadata:\n",
            "      encoder         : Lavc58.134.100 aac\n",
            "frame=   72 fps= 47 q=-1.0 Lsize=      69kB time=00:00:02.98 bitrate= 189.4kbits/s speed=1.96x    \n",
            "video:38kB audio:28kB subtitle:0kB other streams:0kB global headers:0kB muxing overhead: 4.818081%\n",
            "\u001b[1;36m[libx264 @ 0x5a4b45d1f040] \u001b[0mframe I:1     Avg QP:16.05  size: 11584\n",
            "\u001b[1;36m[libx264 @ 0x5a4b45d1f040] \u001b[0mframe P:19    Avg QP:18.06  size:   904\n",
            "\u001b[1;36m[libx264 @ 0x5a4b45d1f040] \u001b[0mframe B:52    Avg QP:21.74  size:   173\n",
            "\u001b[1;36m[libx264 @ 0x5a4b45d1f040] \u001b[0mconsecutive B-frames:  2.8%  2.8%  0.0% 94.4%\n",
            "\u001b[1;36m[libx264 @ 0x5a4b45d1f040] \u001b[0mmb I  I16..4: 54.5% 44.3%  1.2%\n",
            "\u001b[1;36m[libx264 @ 0x5a4b45d1f040] \u001b[0mmb P  I16..4:  0.1%  0.4%  0.0%  P16..4:  1.9%  0.5%  0.4%  0.0%  0.0%    skip:96.7%\n",
            "\u001b[1;36m[libx264 @ 0x5a4b45d1f040] \u001b[0mmb B  I16..4:  0.0%  0.1%  0.0%  B16..8:  1.5%  0.1%  0.0%  direct: 0.0%  skip:98.2%  L0:51.7% L1:46.0% BI: 2.3%\n",
            "\u001b[1;36m[libx264 @ 0x5a4b45d1f040] \u001b[0m8x8 transform intra:48.2% inter:88.8%\n",
            "\u001b[1;36m[libx264 @ 0x5a4b45d1f040] \u001b[0mcoded y,uvDC,uvAC intra: 12.1% 13.6% 3.5% inter: 0.3% 0.3% 0.0%\n",
            "\u001b[1;36m[libx264 @ 0x5a4b45d1f040] \u001b[0mi16 v,h,dc,p: 87%  6%  7%  0%\n",
            "\u001b[1;36m[libx264 @ 0x5a4b45d1f040] \u001b[0mi8 v,h,dc,ddl,ddr,vr,hd,vl,hu: 39%  8% 46%  1%  1%  1%  1%  1%  1%\n",
            "\u001b[1;36m[libx264 @ 0x5a4b45d1f040] \u001b[0mi4 v,h,dc,ddl,ddr,vr,hd,vl,hu: 34% 23% 22%  3%  3%  7%  4%  3%  1%\n",
            "\u001b[1;36m[libx264 @ 0x5a4b45d1f040] \u001b[0mi8c dc,h,v,p: 81%  8% 10%  1%\n",
            "\u001b[1;36m[libx264 @ 0x5a4b45d1f040] \u001b[0mWeighted P-Frames: Y:0.0% UV:0.0%\n",
            "\u001b[1;36m[libx264 @ 0x5a4b45d1f040] \u001b[0mref P L0: 74.4%  7.9% 11.1%  6.6%\n",
            "\u001b[1;36m[libx264 @ 0x5a4b45d1f040] \u001b[0mref B L0: 66.7% 30.4%  2.8%\n",
            "\u001b[1;36m[libx264 @ 0x5a4b45d1f040] \u001b[0mref B L1: 94.2%  5.8%\n",
            "\u001b[1;36m[libx264 @ 0x5a4b45d1f040] \u001b[0mkb/s:104.93\n",
            "\u001b[1;36m[aac @ 0x5a4b45d28e40] \u001b[0mQavg: 11384.907\n"
          ]
        }
      ],
      "source": [
        "!cd Wav2Lip && python inference.py --checkpoint_path checkpoints/wav2lip_gan.pth --face \"../sample_data/me.png\" --audio \"../sample_data/result.wav\""
      ]
    },
    {
      "cell_type": "code",
      "execution_count": null,
      "metadata": {
        "id": "uNOAZvkszEOw"
      },
      "outputs": [],
      "source": [
        "# use the \"files\" button on the left to download the result in the Wav2Lip/results/ folder."
      ]
    },
    {
      "cell_type": "markdown",
      "metadata": {
        "id": "d7zgfrQqbKom"
      },
      "source": [
        "## **Variations to try**\n"
      ]
    },
    {
      "cell_type": "markdown",
      "metadata": {
        "id": "0f9A9VDVbZAG"
      },
      "source": [
        "1.   Use more padding to include the chin region"
      ]
    },
    {
      "cell_type": "code",
      "execution_count": null,
      "metadata": {
        "colab": {
          "base_uri": "https://localhost:8080/"
        },
        "id": "45XW4SZAzIz5",
        "outputId": "f161935d-9df5-48fa-cd45-338c130ab096"
      },
      "outputs": [
        {
          "name": "stdout",
          "output_type": "stream",
          "text": [
            "Using cuda for inference.\n",
            "Reading video frames...\n",
            "Number of frames available for inference: 479\n",
            "(80, 1201)\n",
            "Length of mel chunks: 446\n",
            "  0% 0/4 [00:00<?, ?it/s]\n",
            "  0% 0/28 [00:00<?, ?it/s]\u001b[ATHCudaCheck FAIL file=/pytorch/aten/src/THC/THCGeneral.cpp line=383 error=11 : invalid argument\n",
            "  0% 0/28 [00:00<?, ?it/s]\n",
            "Recovering from OOM error; New batch size: 8\n",
            "\n",
            "  0% 0/56 [00:00<?, ?it/s]\u001b[A\n",
            "  2% 1/56 [00:08<07:26,  8.13s/it]\u001b[A\n",
            "  4% 2/56 [00:09<05:25,  6.02s/it]\u001b[A\n",
            "  5% 3/56 [00:10<04:01,  4.55s/it]\u001b[A\n",
            "  7% 4/56 [00:11<03:02,  3.52s/it]\u001b[A\n",
            "  9% 5/56 [00:12<02:22,  2.79s/it]\u001b[A\n",
            " 11% 6/56 [00:13<01:54,  2.29s/it]\u001b[A\n",
            " 12% 7/56 [00:14<01:34,  1.94s/it]\u001b[A\n",
            " 14% 8/56 [00:15<01:21,  1.70s/it]\u001b[A\n",
            " 16% 9/56 [00:17<01:11,  1.53s/it]\u001b[A\n",
            " 18% 10/56 [00:18<01:04,  1.40s/it]\u001b[A\n",
            " 20% 11/56 [00:19<00:59,  1.32s/it]\u001b[A\n",
            " 21% 12/56 [00:20<00:55,  1.26s/it]\u001b[A\n",
            " 23% 13/56 [00:21<00:52,  1.22s/it]\u001b[A\n",
            " 25% 14/56 [00:22<00:50,  1.20s/it]\u001b[A\n",
            " 27% 15/56 [00:23<00:48,  1.17s/it]\u001b[A\n",
            " 29% 16/56 [00:24<00:46,  1.16s/it]\u001b[A\n",
            " 30% 17/56 [00:26<00:45,  1.15s/it]\u001b[A\n",
            " 32% 18/56 [00:27<00:43,  1.15s/it]\u001b[A\n",
            " 34% 19/56 [00:28<00:42,  1.14s/it]\u001b[A\n",
            " 36% 20/56 [00:29<00:40,  1.14s/it]\u001b[A\n",
            " 38% 21/56 [00:30<00:39,  1.14s/it]\u001b[A\n",
            " 39% 22/56 [00:31<00:39,  1.16s/it]\u001b[A\n",
            " 41% 23/56 [00:33<00:39,  1.20s/it]\u001b[A\n",
            " 43% 24/56 [00:34<00:38,  1.21s/it]\u001b[A\n",
            " 45% 25/56 [00:35<00:36,  1.19s/it]\u001b[A\n",
            " 46% 26/56 [00:36<00:35,  1.17s/it]\u001b[A\n",
            " 48% 27/56 [00:37<00:33,  1.16s/it]\u001b[A\n",
            " 50% 28/56 [00:38<00:32,  1.15s/it]\u001b[A\n",
            " 52% 29/56 [00:39<00:30,  1.14s/it]\u001b[A\n",
            " 54% 30/56 [00:41<00:29,  1.14s/it]\u001b[A\n",
            " 55% 31/56 [00:42<00:28,  1.13s/it]\u001b[A\n",
            " 57% 32/56 [00:43<00:27,  1.14s/it]\u001b[A\n",
            " 59% 33/56 [00:44<00:26,  1.14s/it]\u001b[A\n",
            " 61% 34/56 [00:45<00:24,  1.14s/it]\u001b[A\n",
            " 62% 35/56 [00:46<00:23,  1.13s/it]\u001b[A\n",
            " 64% 36/56 [00:47<00:22,  1.13s/it]\u001b[A\n",
            " 66% 37/56 [00:49<00:21,  1.13s/it]\u001b[A\n",
            " 68% 38/56 [00:50<00:20,  1.13s/it]\u001b[A\n",
            " 70% 39/56 [00:51<00:19,  1.13s/it]\u001b[A\n",
            " 71% 40/56 [00:52<00:18,  1.13s/it]\u001b[A\n",
            " 73% 41/56 [00:53<00:17,  1.13s/it]\u001b[A\n",
            " 75% 42/56 [00:54<00:15,  1.14s/it]\u001b[A\n",
            " 77% 43/56 [00:55<00:14,  1.14s/it]\u001b[A\n",
            " 79% 44/56 [00:56<00:13,  1.13s/it]\u001b[A\n",
            " 80% 45/56 [00:58<00:12,  1.13s/it]\u001b[A\n",
            " 82% 46/56 [00:59<00:11,  1.13s/it]\u001b[A\n",
            " 84% 47/56 [01:00<00:10,  1.14s/it]\u001b[A\n",
            " 86% 48/56 [01:01<00:09,  1.13s/it]\u001b[A\n",
            " 88% 49/56 [01:02<00:07,  1.13s/it]\u001b[A\n",
            " 89% 50/56 [01:03<00:06,  1.14s/it]\u001b[A\n",
            " 91% 51/56 [01:04<00:05,  1.14s/it]\u001b[A\n",
            " 93% 52/56 [01:06<00:04,  1.14s/it]\u001b[A\n",
            " 95% 53/56 [01:07<00:03,  1.14s/it]\u001b[A\n",
            " 96% 54/56 [01:08<00:02,  1.14s/it]\u001b[A\n",
            " 98% 55/56 [01:09<00:01,  1.14s/it]\u001b[A\n",
            "100% 56/56 [01:16<00:00,  1.36s/it]\n",
            "Load checkpoint from: checkpoints/wav2lip_gan.pth\n",
            "Model loaded\n",
            "100% 4/4 [01:28<00:00, 22.03s/it]\n",
            "ffmpeg version 3.4.11-0ubuntu0.1 Copyright (c) 2000-2022 the FFmpeg developers\n",
            "  built with gcc 7 (Ubuntu 7.5.0-3ubuntu1~18.04)\n",
            "  configuration: --prefix=/usr --extra-version=0ubuntu0.1 --toolchain=hardened --libdir=/usr/lib/x86_64-linux-gnu --incdir=/usr/include/x86_64-linux-gnu --enable-gpl --disable-stripping --enable-avresample --enable-avisynth --enable-gnutls --enable-ladspa --enable-libass --enable-libbluray --enable-libbs2b --enable-libcaca --enable-libcdio --enable-libflite --enable-libfontconfig --enable-libfreetype --enable-libfribidi --enable-libgme --enable-libgsm --enable-libmp3lame --enable-libmysofa --enable-libopenjpeg --enable-libopenmpt --enable-libopus --enable-libpulse --enable-librubberband --enable-librsvg --enable-libshine --enable-libsnappy --enable-libsoxr --enable-libspeex --enable-libssh --enable-libtheora --enable-libtwolame --enable-libvorbis --enable-libvpx --enable-libwavpack --enable-libwebp --enable-libx265 --enable-libxml2 --enable-libxvid --enable-libzmq --enable-libzvbi --enable-omx --enable-openal --enable-opengl --enable-sdl2 --enable-libdc1394 --enable-libdrm --enable-libiec61883 --enable-chromaprint --enable-frei0r --enable-libopencv --enable-libx264 --enable-shared\n",
            "  libavutil      55. 78.100 / 55. 78.100\n",
            "  libavcodec     57.107.100 / 57.107.100\n",
            "  libavformat    57. 83.100 / 57. 83.100\n",
            "  libavdevice    57. 10.100 / 57. 10.100\n",
            "  libavfilter     6.107.100 /  6.107.100\n",
            "  libavresample   3.  7.  0 /  3.  7.  0\n",
            "  libswscale      4.  8.100 /  4.  8.100\n",
            "  libswresample   2.  9.100 /  2.  9.100\n",
            "  libpostproc    54.  7.100 / 54.  7.100\n",
            "\u001b[0;33mGuessed Channel Layout for Input Stream #0.0 : stereo\n",
            "\u001b[0mInput #0, wav, from '../sample_data/me2.wav':\n",
            "  Metadata:\n",
            "    encoder         : Lavf58.76.100\n",
            "  Duration: 00:00:15.00, bitrate: 1536 kb/s\n",
            "    Stream #0:0: Audio: pcm_s16le ([1][0][0][0] / 0x0001), 48000 Hz, stereo, s16, 1536 kb/s\n",
            "Input #1, avi, from 'temp/result.avi':\n",
            "  Metadata:\n",
            "    encoder         : Lavf58.26.101\n",
            "  Duration: 00:00:14.88, start: 0.000000, bitrate: 2131 kb/s\n",
            "    Stream #1:0: Video: mpeg4 (Simple Profile) (DIVX / 0x58564944), yuv420p, 1280x720 [SAR 1:1 DAR 16:9], 2127 kb/s, 29.97 fps, 29.97 tbr, 29.97 tbn, 2997 tbc\n",
            "Stream mapping:\n",
            "  Stream #1:0 -> #0:0 (mpeg4 (native) -> h264 (libx264))\n",
            "  Stream #0:0 -> #0:1 (pcm_s16le (native) -> aac (native))\n",
            "Press [q] to stop, [?] for help\n",
            "\u001b[1;36m[libx264 @ 0x55e6df65cd00] \u001b[0m\u001b[0;33m-qscale is ignored, -crf is recommended.\n",
            "\u001b[0m\u001b[1;36m[libx264 @ 0x55e6df65cd00] \u001b[0musing SAR=1/1\n",
            "\u001b[1;36m[libx264 @ 0x55e6df65cd00] \u001b[0musing cpu capabilities: MMX2 SSE2Fast SSSE3 SSE4.2 AVX FMA3 BMI2 AVX2\n",
            "\u001b[1;36m[libx264 @ 0x55e6df65cd00] \u001b[0mprofile High, level 3.1\n",
            "\u001b[1;36m[libx264 @ 0x55e6df65cd00] \u001b[0m264 - core 152 r2854 e9a5903 - H.264/MPEG-4 AVC codec - Copyleft 2003-2017 - http://www.videolan.org/x264.html - options: cabac=1 ref=3 deblock=1:0:0 analyse=0x3:0x113 me=hex subme=7 psy=1 psy_rd=1.00:0.00 mixed_ref=1 me_range=16 chroma_me=1 trellis=1 8x8dct=1 cqm=0 deadzone=21,11 fast_pskip=1 chroma_qp_offset=-2 threads=3 lookahead_threads=1 sliced_threads=0 nr=0 decimate=1 interlaced=0 bluray_compat=0 constrained_intra=0 bframes=3 b_pyramid=2 b_adapt=1 b_bias=0 direct=1 weightb=1 open_gop=0 weightp=2 keyint=250 keyint_min=25 scenecut=40 intra_refresh=0 rc_lookahead=40 rc=crf mbtree=1 crf=23.0 qcomp=0.60 qpmin=0 qpmax=69 qpstep=4 ip_ratio=1.40 aq=1:1.00\n",
            "Output #0, mp4, to 'results/result_voice.mp4':\n",
            "  Metadata:\n",
            "    encoder         : Lavf57.83.100\n",
            "    Stream #0:0: Video: h264 (libx264) (avc1 / 0x31637661), yuv420p(progressive), 1280x720 [SAR 1:1 DAR 16:9], q=-1--1, 29.97 fps, 30k tbn, 29.97 tbc\n",
            "    Metadata:\n",
            "      encoder         : Lavc57.107.100 libx264\n",
            "    Side data:\n",
            "      cpb: bitrate max/min/avg: 0/0/0 buffer size: 0 vbv_delay: -1\n",
            "    Stream #0:1: Audio: aac (LC) (mp4a / 0x6134706D), 48000 Hz, stereo, fltp, 128 kb/s\n",
            "    Metadata:\n",
            "      encoder         : Lavc57.107.100 aac\n",
            "frame=  446 fps= 49 q=-1.0 Lsize=     798kB time=00:00:15.01 bitrate= 435.1kbits/s speed=1.64x    \n",
            "video:547kB audio:233kB subtitle:0kB other streams:0kB global headers:0kB muxing overhead: 2.222770%\n",
            "\u001b[1;36m[libx264 @ 0x55e6df65cd00] \u001b[0mframe I:2     Avg QP:17.19  size: 97286\n",
            "\u001b[1;36m[libx264 @ 0x55e6df65cd00] \u001b[0mframe P:116   Avg QP:19.00  size:  2509\n",
            "\u001b[1;36m[libx264 @ 0x55e6df65cd00] \u001b[0mframe B:328   Avg QP:30.47  size:   225\n",
            "\u001b[1;36m[libx264 @ 0x55e6df65cd00] \u001b[0mconsecutive B-frames:  1.1%  2.2%  0.7% 96.0%\n",
            "\u001b[1;36m[libx264 @ 0x55e6df65cd00] \u001b[0mmb I  I16..4:  1.7% 97.5%  0.8%\n",
            "\u001b[1;36m[libx264 @ 0x55e6df65cd00] \u001b[0mmb P  I16..4:  0.1%  0.6%  0.0%  P16..4:  8.6%  1.6%  1.6%  0.0%  0.0%    skip:87.5%\n",
            "\u001b[1;36m[libx264 @ 0x55e6df65cd00] \u001b[0mmb B  I16..4:  0.0%  0.0%  0.0%  B16..8:  4.3%  0.1%  0.0%  direct: 0.0%  skip:95.6%  L0:38.2% L1:60.6% BI: 1.3%\n",
            "\u001b[1;36m[libx264 @ 0x55e6df65cd00] \u001b[0m8x8 transform intra:94.8% inter:91.4%\n",
            "\u001b[1;36m[libx264 @ 0x55e6df65cd00] \u001b[0mcoded y,uvDC,uvAC intra: 91.8% 84.7% 28.9% inter: 1.2% 1.6% 0.1%\n",
            "\u001b[1;36m[libx264 @ 0x55e6df65cd00] \u001b[0mi16 v,h,dc,p: 16% 17%  3% 63%\n",
            "\u001b[1;36m[libx264 @ 0x55e6df65cd00] \u001b[0mi8 v,h,dc,ddl,ddr,vr,hd,vl,hu: 23% 17% 31%  4%  3%  4%  4%  6%  7%\n",
            "\u001b[1;36m[libx264 @ 0x55e6df65cd00] \u001b[0mi4 v,h,dc,ddl,ddr,vr,hd,vl,hu: 37% 19% 13%  4%  8%  7%  5%  4%  3%\n",
            "\u001b[1;36m[libx264 @ 0x55e6df65cd00] \u001b[0mi8c dc,h,v,p: 38% 25% 27% 10%\n",
            "\u001b[1;36m[libx264 @ 0x55e6df65cd00] \u001b[0mWeighted P-Frames: Y:0.0% UV:0.0%\n",
            "\u001b[1;36m[libx264 @ 0x55e6df65cd00] \u001b[0mref P L0: 74.2%  6.8% 13.4%  5.6%\n",
            "\u001b[1;36m[libx264 @ 0x55e6df65cd00] \u001b[0mref B L0: 85.7% 11.7%  2.6%\n",
            "\u001b[1;36m[libx264 @ 0x55e6df65cd00] \u001b[0mref B L1: 88.0% 12.0%\n",
            "\u001b[1;36m[libx264 @ 0x55e6df65cd00] \u001b[0mkb/s:300.71\n",
            "\u001b[1;36m[aac @ 0x55e6df768000] \u001b[0mQavg: 1383.503\n"
          ]
        }
      ],
      "source": [
        "!cd Wav2Lip && python inference.py --checkpoint_path checkpoints/wav2lip_gan.pth --face \"../sample_data/mona.mp4\" --audio \"../sample_data/me2.wav\" --pads 0 20 0 0"
      ]
    },
    {
      "cell_type": "markdown",
      "metadata": {
        "id": "uo-WnsxfbwTG"
      },
      "source": [
        "2.   Use resize_factor to reduce the video resolution, as there is a change you might get better results for lower resolution videos. Why? Because the model was trained on low resolution faces."
      ]
    },
    {
      "cell_type": "code",
      "execution_count": null,
      "metadata": {
        "id": "xw0xFtZ2bsx8"
      },
      "outputs": [],
      "source": [
        "!cd Wav2Lip && python inference.py --checkpoint_path checkpoints/wav2lip_gan.pth --face \"../sample_data/input_vid.mp4\" --audio \"../sample_data/input_audio.wav\" --resize_factor 2"
      ]
    }
  ],
  "metadata": {
    "accelerator": "GPU",
    "colab": {
      "provenance": [],
      "include_colab_link": true
    },
    "kernelspec": {
      "display_name": "Python 3",
      "name": "python3"
    }
  },
  "nbformat": 4,
  "nbformat_minor": 0
}